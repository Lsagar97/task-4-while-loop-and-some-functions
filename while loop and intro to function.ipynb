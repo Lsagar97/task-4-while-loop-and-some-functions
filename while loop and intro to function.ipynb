{
 "cells": [
  {
   "cell_type": "code",
   "execution_count": 1,
   "id": "c5719163",
   "metadata": {},
   "outputs": [
    {
     "name": "stdout",
     "output_type": "stream",
     "text": [
      "1\n",
      "2\n",
      "3\n",
      "4\n",
      "5\n",
      "6\n",
      "7\n",
      "8\n",
      "9\n",
      "10\n"
     ]
    }
   ],
   "source": [
    "a=1\n",
    "b=10\n",
    "while a<=b:\n",
    "    print(a)\n",
    "    a=a+1"
   ]
  },
  {
   "cell_type": "code",
   "execution_count": null,
   "id": "381e7924",
   "metadata": {},
   "outputs": [],
   "source": []
  },
  {
   "cell_type": "code",
   "execution_count": 2,
   "id": "d2e762ad",
   "metadata": {},
   "outputs": [
    {
     "name": "stdout",
     "output_type": "stream",
     "text": [
      "1\n",
      "3\n",
      "5\n",
      "7\n",
      "9\n",
      "print this else block\n"
     ]
    }
   ],
   "source": [
    "a=1\n",
    "b=10\n",
    "while a<=b:\n",
    "    print(a)\n",
    "    a=a+2\n",
    "else:\n",
    "    print(\"print this else block\")"
   ]
  },
  {
   "cell_type": "code",
   "execution_count": 3,
   "id": "27ec3009",
   "metadata": {},
   "outputs": [
    {
     "name": "stdout",
     "output_type": "stream",
     "text": [
      "1\n",
      "2\n",
      "3\n",
      "4\n",
      "5\n"
     ]
    }
   ],
   "source": [
    "a=1\n",
    "b=10\n",
    "while a<10:\n",
    "    print(a)\n",
    "    if a==5:\n",
    "        break\n",
    "    a=a+1\n",
    "else:\n",
    "    print(\"print this\")"
   ]
  },
  {
   "cell_type": "code",
   "execution_count": 4,
   "id": "02cba539",
   "metadata": {},
   "outputs": [
    {
     "name": "stdout",
     "output_type": "stream",
     "text": [
      "1\n",
      "2\n",
      "3\n"
     ]
    },
    {
     "ename": "NameError",
     "evalue": "name 'continu' is not defined",
     "output_type": "error",
     "traceback": [
      "\u001b[1;31m---------------------------------------------------------------------------\u001b[0m",
      "\u001b[1;31mNameError\u001b[0m                                 Traceback (most recent call last)",
      "Input \u001b[1;32mIn [4]\u001b[0m, in \u001b[0;36m<cell line: 3>\u001b[1;34m()\u001b[0m\n\u001b[0;32m      4\u001b[0m \u001b[38;5;28mprint\u001b[39m(a)\n\u001b[0;32m      5\u001b[0m \u001b[38;5;28;01mif\u001b[39;00m a\u001b[38;5;241m==\u001b[39m\u001b[38;5;241m3\u001b[39m:\n\u001b[1;32m----> 6\u001b[0m     \u001b[43mcontinu\u001b[49m\n\u001b[0;32m      7\u001b[0m a\u001b[38;5;241m=\u001b[39ma\u001b[38;5;241m+\u001b[39m\u001b[38;5;241m1\u001b[39m\n",
      "\u001b[1;31mNameError\u001b[0m: name 'continu' is not defined"
     ]
    }
   ],
   "source": [
    "a=1\n",
    "b=10\n",
    "while a<b:\n",
    "    print(a)\n",
    "    if a==3:\n",
    "        continu\n",
    "    a=a+1\n",
    "    ##if you use continue it run for infinite in this loop \n",
    "    ##so i have mistaken continue spell (it might hang my pc)"
   ]
  },
  {
   "cell_type": "code",
   "execution_count": null,
   "id": "55ee3d37",
   "metadata": {},
   "outputs": [],
   "source": [
    "a=1\n",
    "b=10\n",
    "while a<b:\n",
    "    a=a+1\n",
    "    if a==3:\n",
    "        continue\n",
    "    print(a)"
   ]
  },
  {
   "cell_type": "code",
   "execution_count": null,
   "id": "a5ba35f6",
   "metadata": {},
   "outputs": [],
   "source": [
    "l=[1,2,3,4,5,45,67]\n",
    "len(l)\n"
   ]
  },
  {
   "cell_type": "code",
   "execution_count": null,
   "id": "8d3a4c7e",
   "metadata": {},
   "outputs": [],
   "source": [
    "for i in l:\n",
    "    print(i)"
   ]
  },
  {
   "cell_type": "code",
   "execution_count": null,
   "id": "c835af92",
   "metadata": {},
   "outputs": [],
   "source": [
    "a=0\n",
    "while a< len(l):\n",
    "    print(l[a])\n",
    "    a=a+1"
   ]
  },
  {
   "cell_type": "code",
   "execution_count": null,
   "id": "1e01fd51",
   "metadata": {},
   "outputs": [],
   "source": [
    "t=(3,4,5,6,7,8,9)"
   ]
  },
  {
   "cell_type": "code",
   "execution_count": null,
   "id": "de5c22d0",
   "metadata": {},
   "outputs": [],
   "source": [
    "a=0\n",
    "while a<len(t):\n",
    "    if t[a]==6 or t[a]==7:\n",
    "        print(a)\n",
    "        ##or\n",
    "        print('index of tuple ',t[a],\"is\",a)\n",
    "    a=a+1    "
   ]
  },
  {
   "cell_type": "code",
   "execution_count": null,
   "id": "063c5a1d",
   "metadata": {},
   "outputs": [],
   "source": [
    "a=-1\n",
    "while a in range(-len(t)):\n",
    "    if t[a]:\n",
    "        print(a,t[a])\n",
    "    a=a-1"
   ]
  },
  {
   "cell_type": "code",
   "execution_count": null,
   "id": "074dd556",
   "metadata": {},
   "outputs": [],
   "source": [
    "a=-1\n",
    "while a>-len(t):\n",
    "    if t[a]==6 or t[a]==7:\n",
    "        print(a,t[a])\n",
    "    a=a-1"
   ]
  },
  {
   "cell_type": "code",
   "execution_count": null,
   "id": "279ef374",
   "metadata": {},
   "outputs": [],
   "source": [
    "t1=(6,4,5,6,7,8,6)"
   ]
  },
  {
   "cell_type": "code",
   "execution_count": null,
   "id": "4b664e73",
   "metadata": {},
   "outputs": [],
   "source": [
    "a=0\n",
    "while a<len(t1):\n",
    "    if t1[a]==6 or t1[a]==7:\n",
    "        print(a)\n",
    "        ##or\n",
    "        print('index of tuple ',t1[a],\"is\",a)\n",
    "    a=a+1    "
   ]
  },
  {
   "cell_type": "code",
   "execution_count": null,
   "id": "b63378ef",
   "metadata": {},
   "outputs": [],
   "source": [
    "a=-1\n",
    "while a>-len(t1):    ##not printing 0th location \"6\"\n",
    "    if t1[a]==6 or t1[a]==7:\n",
    "        print(a,t1[a])\n",
    "    a=a-1"
   ]
  },
  {
   "cell_type": "code",
   "execution_count": null,
   "id": "0b41a778",
   "metadata": {},
   "outputs": [],
   "source": [
    "#above solved\n",
    "a=-1\n",
    "while a>= - len(t1):\n",
    "    if t1[a]==6 or t1[a]==7:\n",
    "        print(a,t1[a])\n",
    "    a=a-1"
   ]
  },
  {
   "cell_type": "code",
   "execution_count": null,
   "id": "3cf6fd25",
   "metadata": {},
   "outputs": [],
   "source": [
    "t=(3,4,5,6,7,8,9)\n",
    "i=0\n",
    "while i<len(t):        ##-8<7--->T so out of range\n",
    "    if(t[i]==6) or t[i]==7:\n",
    "        print(i,t[i])\n",
    "    i-=1 ##also equal to i=i-1 & i-=1 is shortcut"
   ]
  },
  {
   "cell_type": "code",
   "execution_count": null,
   "id": "7c09103d",
   "metadata": {},
   "outputs": [],
   "source": [
    "##above solved\n",
    "i=0\n",
    "while i<len(t):        \n",
    "    if(t[i]==6) or t[i]==7:\n",
    "        print(i)\n",
    "    if i == -len(t):\n",
    "        break\n",
    "    i-=1"
   ]
  },
  {
   "cell_type": "code",
   "execution_count": null,
   "id": "1f228cf2",
   "metadata": {},
   "outputs": [],
   "source": [
    "i=-1                     ## whileiteration -1<7===true\n",
    "while i<len(t):          ##whileiteration -2<7===true \n",
    "    if type(t[i])==int:  ##whileiteration till -7<7===true\n",
    "        print(i,t[i])\n",
    "    if i == -len(t):     ##2nd if iteration -1==-7 ===False\n",
    "        break            ##till             -7==-7 ===true\n",
    "    i=i-1   ##also = i-=1"
   ]
  },
  {
   "cell_type": "code",
   "execution_count": null,
   "id": "d1bb606a",
   "metadata": {},
   "outputs": [],
   "source": [
    "t"
   ]
  },
  {
   "cell_type": "code",
   "execution_count": null,
   "id": "9833cf50",
   "metadata": {},
   "outputs": [],
   "source": [
    "i=0\n",
    "while i<len(t):\n",
    "    if type(t[i])==int:\n",
    "        print(i,t[i])\n",
    "    i=i+1"
   ]
  },
  {
   "cell_type": "code",
   "execution_count": null,
   "id": "889668e0",
   "metadata": {},
   "outputs": [],
   "source": [
    "d={\"k1\":\"liki\",\"k2\":[1,2,3,4],\"k3\":(2,3,4,5)}\n",
    "\n"
   ]
  },
  {
   "cell_type": "code",
   "execution_count": null,
   "id": "da668c10",
   "metadata": {},
   "outputs": [],
   "source": [
    "i=0\n",
    "while i<len(d):\n",
    "    if type(d)==dict:\n",
    "        while v in i.items():   ##triedmine\n",
    "            print( \":\",v)"
   ]
  },
  {
   "cell_type": "code",
   "execution_count": null,
   "id": "1128542e",
   "metadata": {},
   "outputs": [],
   "source": [
    "len(d)"
   ]
  },
  {
   "cell_type": "code",
   "execution_count": null,
   "id": "32e0b97e",
   "metadata": {},
   "outputs": [],
   "source": [
    "a=0\n",
    "b=list(d.keys())\n",
    "while a < len(d):   ##0<3==true\n",
    "    print(d[b[a]])\n",
    "    a=a+1"
   ]
  },
  {
   "cell_type": "code",
   "execution_count": null,
   "id": "4eafb5a6",
   "metadata": {},
   "outputs": [],
   "source": [
    "b= list(d.keys())"
   ]
  },
  {
   "cell_type": "code",
   "execution_count": null,
   "id": "18bf49c7",
   "metadata": {},
   "outputs": [],
   "source": [
    "b[0],b[1],b[2]"
   ]
  },
  {
   "cell_type": "code",
   "execution_count": null,
   "id": "f4940dbb",
   "metadata": {},
   "outputs": [],
   "source": [
    "b"
   ]
  },
  {
   "cell_type": "code",
   "execution_count": null,
   "id": "98c04fcf",
   "metadata": {},
   "outputs": [],
   "source": [
    "d[\"k1\"]"
   ]
  },
  {
   "cell_type": "code",
   "execution_count": null,
   "id": "f557695c",
   "metadata": {},
   "outputs": [],
   "source": [
    "len()\n",
    "range()\n",
    "print()\n",
    "keys\n",
    "values\n",
    "items\n",
    "append\n",
    "pop\n",
    "\n",
    "insert\n",
    "extend\n"
   ]
  },
  {
   "cell_type": "code",
   "execution_count": null,
   "id": "b2546b19",
   "metadata": {},
   "outputs": [],
   "source": [
    "#FUNCTION\n"
   ]
  },
  {
   "cell_type": "code",
   "execution_count": null,
   "id": "cc0f202a",
   "metadata": {
    "scrolled": false
   },
   "outputs": [],
   "source": [
    "def test():\n",
    "    print('this is my 1st functn')\n"
   ]
  },
  {
   "cell_type": "code",
   "execution_count": null,
   "id": "0ebc99df",
   "metadata": {},
   "outputs": [],
   "source": [
    "test()"
   ]
  },
  {
   "cell_type": "code",
   "execution_count": null,
   "id": "1ab65d49",
   "metadata": {},
   "outputs": [],
   "source": [
    "test()+\"liki\""
   ]
  },
  {
   "cell_type": "code",
   "execution_count": null,
   "id": "ed08d5a3",
   "metadata": {},
   "outputs": [],
   "source": [
    "type(test())\n"
   ]
  },
  {
   "cell_type": "code",
   "execution_count": null,
   "id": "6183bae0",
   "metadata": {},
   "outputs": [],
   "source": [
    "str(test())+'liki'"
   ]
  },
  {
   "cell_type": "code",
   "execution_count": null,
   "id": "a74c55d2",
   "metadata": {},
   "outputs": [],
   "source": [
    "str(test())+'liki'"
   ]
  },
  {
   "cell_type": "code",
   "execution_count": null,
   "id": "a0750147",
   "metadata": {},
   "outputs": [],
   "source": []
  },
  {
   "cell_type": "code",
   "execution_count": null,
   "id": "b2215294",
   "metadata": {},
   "outputs": [],
   "source": [
    "def test1():\n",
    "    return \"this is my fisrt ftn\""
   ]
  },
  {
   "cell_type": "code",
   "execution_count": null,
   "id": "e3fdf05d",
   "metadata": {},
   "outputs": [],
   "source": [
    "test1()"
   ]
  },
  {
   "cell_type": "code",
   "execution_count": null,
   "id": "cd6a1ec7",
   "metadata": {},
   "outputs": [],
   "source": [
    "type(test1())"
   ]
  },
  {
   "cell_type": "code",
   "execution_count": null,
   "id": "ace3967a",
   "metadata": {},
   "outputs": [],
   "source": [
    "test1()+\" liki\""
   ]
  },
  {
   "cell_type": "code",
   "execution_count": null,
   "id": "d868f9aa",
   "metadata": {},
   "outputs": [],
   "source": [
    "def test2():\n",
    "    pass\n",
    "    "
   ]
  },
  {
   "cell_type": "code",
   "execution_count": null,
   "id": "e1fa7fae",
   "metadata": {},
   "outputs": [],
   "source": [
    "def test3():\n",
    "    return 1,3 ,5,[1,2,3,4,4,5]"
   ]
  },
  {
   "cell_type": "code",
   "execution_count": null,
   "id": "9c43922a",
   "metadata": {},
   "outputs": [],
   "source": [
    "test3()"
   ]
  },
  {
   "cell_type": "code",
   "execution_count": null,
   "id": "cf4a8353",
   "metadata": {},
   "outputs": [],
   "source": [
    "a = test3()"
   ]
  },
  {
   "cell_type": "code",
   "execution_count": null,
   "id": "805e1806",
   "metadata": {},
   "outputs": [],
   "source": [
    "a"
   ]
  },
  {
   "cell_type": "code",
   "execution_count": null,
   "id": "bff32d3b",
   "metadata": {},
   "outputs": [],
   "source": [
    "a=10\n",
    "b=20\n",
    "c=39"
   ]
  },
  {
   "cell_type": "code",
   "execution_count": null,
   "id": "e7590855",
   "metadata": {},
   "outputs": [],
   "source": [
    "a,b,c=(23,45,56)"
   ]
  },
  {
   "cell_type": "code",
   "execution_count": null,
   "id": "9acfba15",
   "metadata": {},
   "outputs": [],
   "source": [
    "a,b,c,d = test3()"
   ]
  },
  {
   "cell_type": "code",
   "execution_count": null,
   "id": "2148e679",
   "metadata": {},
   "outputs": [],
   "source": [
    "a"
   ]
  },
  {
   "cell_type": "code",
   "execution_count": null,
   "id": "dbf83bb1",
   "metadata": {},
   "outputs": [],
   "source": [
    "b"
   ]
  },
  {
   "cell_type": "code",
   "execution_count": null,
   "id": "0e69b4f0",
   "metadata": {},
   "outputs": [],
   "source": [
    "c"
   ]
  },
  {
   "cell_type": "code",
   "execution_count": null,
   "id": "d3ff550a",
   "metadata": {},
   "outputs": [],
   "source": [
    "d"
   ]
  },
  {
   "cell_type": "code",
   "execution_count": null,
   "id": "ba8a1beb",
   "metadata": {},
   "outputs": [],
   "source": [
    "def test4():\n",
    "    a=4*5\n",
    "    b=6+5\n",
    "    return a,b"
   ]
  },
  {
   "cell_type": "code",
   "execution_count": null,
   "id": "096e25ef",
   "metadata": {},
   "outputs": [],
   "source": [
    "test4()"
   ]
  },
  {
   "cell_type": "code",
   "execution_count": null,
   "id": "a8e68174",
   "metadata": {},
   "outputs": [],
   "source": [
    "g=test4()"
   ]
  },
  {
   "cell_type": "code",
   "execution_count": null,
   "id": "9e1dda45",
   "metadata": {},
   "outputs": [],
   "source": [
    "g"
   ]
  },
  {
   "cell_type": "code",
   "execution_count": null,
   "id": "4bdba52e",
   "metadata": {},
   "outputs": [],
   "source": [
    "j,k=(test4())"
   ]
  },
  {
   "cell_type": "code",
   "execution_count": null,
   "id": "afa74b50",
   "metadata": {},
   "outputs": [],
   "source": [
    "j"
   ]
  },
  {
   "cell_type": "code",
   "execution_count": null,
   "id": "b59778e7",
   "metadata": {},
   "outputs": [],
   "source": [
    "k"
   ]
  },
  {
   "cell_type": "code",
   "execution_count": null,
   "id": "2c7ee034",
   "metadata": {},
   "outputs": [],
   "source": [
    "_,m = test4()"
   ]
  },
  {
   "cell_type": "code",
   "execution_count": null,
   "id": "ea95765f",
   "metadata": {},
   "outputs": [],
   "source": [
    "m"
   ]
  },
  {
   "cell_type": "code",
   "execution_count": null,
   "id": "afe1e02b",
   "metadata": {},
   "outputs": [],
   "source": [
    "_"
   ]
  },
  {
   "cell_type": "code",
   "execution_count": null,
   "id": "6330c886",
   "metadata": {},
   "outputs": [],
   "source": [
    "test3()"
   ]
  },
  {
   "cell_type": "code",
   "execution_count": null,
   "id": "f3f1bba8",
   "metadata": {},
   "outputs": [],
   "source": [
    "_,_,_,g = test3()"
   ]
  },
  {
   "cell_type": "code",
   "execution_count": null,
   "id": "6107f428",
   "metadata": {},
   "outputs": [],
   "source": [
    "g"
   ]
  },
  {
   "cell_type": "code",
   "execution_count": null,
   "id": "7dd246aa",
   "metadata": {},
   "outputs": [],
   "source": [
    "_    ###  _ is place holder"
   ]
  },
  {
   "cell_type": "code",
   "execution_count": null,
   "id": "65436f43",
   "metadata": {},
   "outputs": [],
   "source": [
    "_"
   ]
  },
  {
   "cell_type": "code",
   "execution_count": null,
   "id": "6f46f184",
   "metadata": {},
   "outputs": [],
   "source": [
    "_"
   ]
  },
  {
   "cell_type": "code",
   "execution_count": null,
   "id": "cd8cc682",
   "metadata": {},
   "outputs": [],
   "source": [
    "a=1\n",
    "b=10\n",
    "while a<b:\n",
    "    print(a)\n",
    "    a=a+1\n",
    "else:\n",
    "    print(\"print this else\")"
   ]
  },
  {
   "cell_type": "code",
   "execution_count": null,
   "id": "e092b4ff",
   "metadata": {},
   "outputs": [],
   "source": [
    "def test5():\n",
    "    a=1\n",
    "    b=10\n",
    "    while a<=b:\n",
    "        print(a)\n",
    "        a=a+1\n",
    "    else:\n",
    "        print(\"print this else\")"
   ]
  },
  {
   "cell_type": "code",
   "execution_count": null,
   "id": "2ce42d6c",
   "metadata": {},
   "outputs": [],
   "source": [
    "(test5())"
   ]
  },
  {
   "cell_type": "code",
   "execution_count": null,
   "id": "eeb706e5",
   "metadata": {},
   "outputs": [],
   "source": [
    "def test5(a,b):\n",
    "    while a<=b:\n",
    "        print(a)\n",
    "        a=a+1\n",
    "    else:\n",
    "        print(\"print this else\")"
   ]
  },
  {
   "cell_type": "code",
   "execution_count": null,
   "id": "fb5384d8",
   "metadata": {},
   "outputs": [],
   "source": [
    "test5(0,20)"
   ]
  },
  {
   "cell_type": "code",
   "execution_count": null,
   "id": "e32118a6",
   "metadata": {},
   "outputs": [],
   "source": [
    "test5(1,10)"
   ]
  },
  {
   "cell_type": "code",
   "execution_count": null,
   "id": "d71c729a",
   "metadata": {},
   "outputs": [],
   "source": [
    "test5(3,5)"
   ]
  },
  {
   "cell_type": "code",
   "execution_count": null,
   "id": "b68214c7",
   "metadata": {},
   "outputs": [],
   "source": [
    "test5(30,2)"
   ]
  },
  {
   "cell_type": "code",
   "execution_count": null,
   "id": "3c0ef094",
   "metadata": {},
   "outputs": [],
   "source": [
    "type(print())"
   ]
  },
  {
   "cell_type": "code",
   "execution_count": null,
   "id": "dc3229bd",
   "metadata": {},
   "outputs": [],
   "source": [
    "type(test5(30,2))"
   ]
  },
  {
   "cell_type": "code",
   "execution_count": null,
   "id": "f94d0363",
   "metadata": {},
   "outputs": [],
   "source": [
    "def test5(a,b):\n",
    "    while a<=b:\n",
    "        print(a)\n",
    "        \n",
    "        a=a+1\n",
    "    else:\n",
    "        return \"print this else\""
   ]
  },
  {
   "cell_type": "code",
   "execution_count": null,
   "id": "7a5d3700",
   "metadata": {},
   "outputs": [],
   "source": [
    "type(test5(30,2))"
   ]
  },
  {
   "cell_type": "code",
   "execution_count": null,
   "id": "84cc0b69",
   "metadata": {},
   "outputs": [],
   "source": [
    "type(test5(1,10))"
   ]
  },
  {
   "cell_type": "code",
   "execution_count": null,
   "id": "88359159",
   "metadata": {},
   "outputs": [],
   "source": [
    "def test5(a,b):\n",
    "    l =[]\n",
    "    while a<=b:\n",
    "        l.append(a)\n",
    "        a=a+2\n",
    "    else:\n",
    "        print(\"print this else\")\n",
    "    return l"
   ]
  },
  {
   "cell_type": "code",
   "execution_count": null,
   "id": "c7d22f06",
   "metadata": {},
   "outputs": [],
   "source": [
    "test5(1,10)"
   ]
  },
  {
   "cell_type": "code",
   "execution_count": null,
   "id": "fee5de35",
   "metadata": {},
   "outputs": [],
   "source": [
    "type(test5(30,2))"
   ]
  },
  {
   "cell_type": "code",
   "execution_count": null,
   "id": "c48455b2",
   "metadata": {},
   "outputs": [],
   "source": [
    "l=[4,5,6,67,8,9,8,[3,4,5,6,7],'liki']"
   ]
  },
  {
   "cell_type": "code",
   "execution_count": null,
   "id": "097c7b9a",
   "metadata": {},
   "outputs": [],
   "source": [
    "l1=[]\n",
    "for i in l:\n",
    "    if type(i)==int:\n",
    "        l1.append(i)"
   ]
  },
  {
   "cell_type": "code",
   "execution_count": null,
   "id": "d81acf95",
   "metadata": {},
   "outputs": [],
   "source": []
  },
  {
   "cell_type": "code",
   "execution_count": null,
   "id": "47108665",
   "metadata": {},
   "outputs": [],
   "source": [
    "l1"
   ]
  },
  {
   "cell_type": "code",
   "execution_count": null,
   "id": "a707b6ba",
   "metadata": {},
   "outputs": [],
   "source": [
    "def test7():\n",
    "    l1=[]\n",
    "    for i in l:\n",
    "        if type(i) == int:\n",
    "            l1.append(i)\n",
    "    return l1\n",
    "                "
   ]
  },
  {
   "cell_type": "code",
   "execution_count": null,
   "id": "7a879dce",
   "metadata": {},
   "outputs": [],
   "source": [
    "test7()"
   ]
  },
  {
   "cell_type": "code",
   "execution_count": null,
   "id": "8654f3ab",
   "metadata": {},
   "outputs": [],
   "source": [
    "type(test7())\n",
    "##print will return always nonetype\n",
    "##return will return actaul datatype"
   ]
  },
  {
   "cell_type": "code",
   "execution_count": null,
   "id": "c0445047",
   "metadata": {},
   "outputs": [],
   "source": [
    "l3 = [345,364,5767,4,5,5,6,\"liki\",(6,5,6)]"
   ]
  },
  {
   "cell_type": "code",
   "execution_count": null,
   "id": "d70ef3ed",
   "metadata": {},
   "outputs": [],
   "source": [
    "t=(9,4,5,6,7,87)\n",
    "a=-1\n",
    "while a>=-len(t):\n",
    "    print('index of',t[a], 'is',a)\n",
    "    a-=1 ##or a=a-1\n"
   ]
  },
  {
   "cell_type": "code",
   "execution_count": null,
   "id": "5f8f0b49",
   "metadata": {},
   "outputs": [],
   "source": [
    "-len(t)"
   ]
  },
  {
   "cell_type": "code",
   "execution_count": null,
   "id": "d92c96d7",
   "metadata": {},
   "outputs": [],
   "source": [
    "def test7(l):\n",
    "    l1=[]\n",
    "    for i in l:\n",
    "        if type(i) == int:\n",
    "            l1.append(i)\n",
    "    return l1\n",
    "    "
   ]
  },
  {
   "cell_type": "code",
   "execution_count": null,
   "id": "febd60dc",
   "metadata": {},
   "outputs": [],
   "source": [
    "test7(l3)"
   ]
  },
  {
   "cell_type": "code",
   "execution_count": null,
   "id": "b613a2b5",
   "metadata": {},
   "outputs": [],
   "source": [
    "def test8(t):\n",
    "    a=-1\n",
    "    while a>=-len(t):\n",
    "        if t[a]==6 or t[a]==7:\n",
    "             print('index of',t[a], 'is',a)\n",
    "        a-=1"
   ]
  },
  {
   "cell_type": "code",
   "execution_count": null,
   "id": "5f373d75",
   "metadata": {
    "scrolled": true
   },
   "outputs": [],
   "source": [
    "test8(t)"
   ]
  },
  {
   "cell_type": "code",
   "execution_count": null,
   "id": "56b142fa",
   "metadata": {
    "scrolled": true
   },
   "outputs": [],
   "source": [
    "test8((3,4,5,6,67,7,6,7,8,9))"
   ]
  },
  {
   "cell_type": "code",
   "execution_count": null,
   "id": "36cd9be4",
   "metadata": {},
   "outputs": [],
   "source": [
    "##q1\n",
    "n=int(input(\"enter the number of rows=\"))\n",
    "i=0\n",
    "while i<n:\n",
    "    print(\"* \"*(i+1))\n",
    "    i+=1\n",
    "\n",
    "\n",
    "\n",
    "    "
   ]
  },
  {
   "cell_type": "code",
   "execution_count": null,
   "id": "2423db81",
   "metadata": {},
   "outputs": [],
   "source": [
    "n1=9\n",
    "i=0\n",
    "while i<n1:\n",
    "    print(\"* \"*(i+n1))   ##triedmine\n",
    "    if i == -n1:\n",
    "        \n",
    "        break\n",
    "    i-=1"
   ]
  },
  {
   "cell_type": "code",
   "execution_count": null,
   "id": "51830e8f",
   "metadata": {},
   "outputs": [],
   "source": [
    "n2=int(input(\"enter the number of rows=\"))\n",
    "a=0\n",
    "while a<n2:\n",
    "    print(\" \"*(n2-a-1)+\"* \"*(a+1))    ##triedmine\n",
    "    a +=1\n",
    "    "
   ]
  },
  {
   "cell_type": "code",
   "execution_count": null,
   "id": "c866f1a2",
   "metadata": {},
   "outputs": [],
   "source": [
    "n3=9\n",
    "i=0\n",
    "while i<n3:\n",
    "    print(\" \"*(n3-i-1) + \"* \"*(i+n3))     ##triedmine\n",
    "    if i ==-n3:\n",
    "        break\n",
    "    i-=1"
   ]
  },
  {
   "cell_type": "code",
   "execution_count": null,
   "id": "8f729a7d",
   "metadata": {},
   "outputs": [],
   "source": [
    "##IOPub data rate exceeded.\n",
    "##The notebook server will temporarily stop sending outputto the client in order to avoid crashing it.\n",
    "##To change this limit, set the config variable\n",
    "##`--NotebookApp.iopub_data_rate_limit`.\n",
    "\n",
    "##Current values:\n",
    "##NotebookApp.iopub_data_rate_limit=1000000.0 (bytes/sec)\n",
    "##NotebookApp.rate_limit_window=3.0 (secs)\n",
    "\n",
    "\n",
    "###### i dint understand why above statement came\n",
    "\n"
   ]
  },
  {
   "cell_type": "code",
   "execution_count": null,
   "id": "fce7201f",
   "metadata": {},
   "outputs": [],
   "source": [
    "##Q2\n",
    "###to print below using while loop:\n",
    "#A\n",
    "#B H \n",
    "#C I N\n",
    "#D J o S\n",
    "#E K p T W\n",
    "#F L Q U X z\n",
    "#G M R V Y \n",
    "\n",
    "\n",
    "\n",
    "n4 =\"ABCDEFGHIJKLMNOPQRSTUVWXYZ\"\n",
    "i=0\n",
    "while i<len(n4):\n",
    "    if type(n4[i])==str:\n",
    "        print(i,(n4[i]))\n",
    "    i+=1\n",
    "    \n",
    "    "
   ]
  },
  {
   "cell_type": "code",
   "execution_count": null,
   "id": "1423a897",
   "metadata": {},
   "outputs": [],
   "source": [
    "n4=\"ABCDEFG\"\n",
    "i=0\n",
    "while i<len(n4):\n",
    "    if type(n4[i])==str:\n",
    "        print(n4[i])\n",
    "    i+=1\n",
    "    "
   ]
  },
  {
   "cell_type": "code",
   "execution_count": 1,
   "id": "0e6d5d5b",
   "metadata": {},
   "outputs": [
    {
     "name": "stdout",
     "output_type": "stream",
     "text": [
      "range=1\n",
      "range=10\n",
      "3\n",
      "6\n",
      "9\n"
     ]
    }
   ],
   "source": [
    "##q3\n",
    "## Try to print all the number divisible by 3 in between a range of 40 - 400\n",
    "n5=int(input('range='))\n",
    "n6=int(input('range='))\n",
    "while n5<=n6:\n",
    "    if n5%3==0:\n",
    "        print(n5)\n",
    "    n5+=1"
   ]
  },
  {
   "cell_type": "code",
   "execution_count": 2,
   "id": "bbad4a5b",
   "metadata": {},
   "outputs": [
    {
     "ename": "IndentationError",
     "evalue": "unexpected indent (3014085978.py, line 3)",
     "output_type": "error",
     "traceback": [
      "\u001b[1;36m  Input \u001b[1;32mIn [2]\u001b[1;36m\u001b[0m\n\u001b[1;33m    \"\"\"Python is a high-level, interpreted, general-purpose programming language. Its design philosophy emphasizes code readability with the use of significant indentation.[32]\u001b[0m\n\u001b[1;37m    ^\u001b[0m\n\u001b[1;31mIndentationError\u001b[0m\u001b[1;31m:\u001b[0m unexpected indent\n"
     ]
    }
   ],
   "source": [
    "##q4\n",
    "##Try to filter out all the vowels form below text by using while loop : \n",
    " \"\"\"Python is a high-level, interpreted, general-purpose programming language. Its design philosophy emphasizes code readability with the use of significant indentation.[32]\n",
    "\n",
    "Python is dynamically-typed and garbage-collected. It supports multiple programming paradigms, including structured (particularly procedural), object-oriented and functional programming. It is often described as a \"batteries included\" language due to its comprehensive standard library.[33][34]\n",
    "\n",
    "Guido van Rossum began working on Python in the late 1980s as a successor to the ABC programming language and first released it in 1991 as Python 0.9.0.[35] Python 2.0 was released in 2000 and introduced new features such as list comprehensions, cycle-detecting garbage collection, reference counting, and Unicode support. Python 3.0, released in 2008, was a major revision that is not completely backward-compatible with earlier versions. Python 2 was discontinued with version 2.7.18 in 2020.[36]\n",
    "\n",
    "Python consistently ranks as one of the most popular programming languagesc\"\"\""
   ]
  },
  {
   "cell_type": "code",
   "execution_count": 3,
   "id": "0c455353",
   "metadata": {},
   "outputs": [
    {
     "name": "stdout",
     "output_type": "stream",
     "text": [
      "4 o\n",
      "7 i\n",
      "10 a\n",
      "13 i\n",
      "18 e\n",
      "20 e\n",
      "24 i\n",
      "27 e\n",
      "31 e\n",
      "33 e\n",
      "38 e\n",
      "40 e\n",
      "42 a\n",
      "46 u\n",
      "49 o\n",
      "51 e\n",
      "55 o\n",
      "58 a\n",
      "61 i\n",
      "66 a\n",
      "69 u\n",
      "70 a\n",
      "72 e\n",
      "75 I\n",
      "80 e\n",
      "82 i\n",
      "88 i\n",
      "90 o\n",
      "92 o\n",
      "97 e\n",
      "101 a\n",
      "103 i\n",
      "105 e\n",
      "109 o\n",
      "111 e\n",
      "114 e\n",
      "115 a\n",
      "117 a\n",
      "119 i\n",
      "121 i\n",
      "126 i\n",
      "132 e\n",
      "134 u\n",
      "136 e\n",
      "138 o\n",
      "142 i\n",
      "145 i\n",
      "147 i\n",
      "149 a\n",
      "153 i\n",
      "156 e\n",
      "159 a\n",
      "161 i\n",
      "162 o\n",
      "175 o\n",
      "178 i\n",
      "184 a\n",
      "186 i\n",
      "188 a\n",
      "196 e\n",
      "199 a\n",
      "204 a\n",
      "207 a\n",
      "209 e\n",
      "212 o\n",
      "215 e\n",
      "218 e\n",
      "222 I\n",
      "226 u\n",
      "229 o\n",
      "235 u\n",
      "238 i\n",
      "241 e\n",
      "245 o\n",
      "248 a\n",
      "251 i\n",
      "256 a\n",
      "258 a\n",
      "260 i\n",
      "266 i\n",
      "270 u\n",
      "272 i\n",
      "279 u\n",
      "282 u\n",
      "284 e\n",
      "289 a\n",
      "292 i\n",
      "294 u\n",
      "296 a\n",
      "303 o\n",
      "305 e\n",
      "307 u\n",
      "309 a\n",
      "314 o\n",
      "317 e\n",
      "321 o\n",
      "323 i\n",
      "324 e\n",
      "327 e\n",
      "330 a\n",
      "335 u\n",
      "339 i\n",
      "340 o\n",
      "342 a\n",
      "347 o\n",
      "350 a\n",
      "353 i\n",
      "358 I\n",
      "361 i\n",
      "364 o\n",
      "367 e\n",
      "371 e\n",
      "375 i\n",
      "377 e\n",
      "380 a\n",
      "383 a\n",
      "387 a\n",
      "390 e\n",
      "392 i\n",
      "393 e\n",
      "396 i\n",
      "400 u\n",
      "402 e\n",
      "407 a\n",
      "410 u\n",
      "411 a\n",
      "413 e\n",
      "416 u\n",
      "417 e\n",
      "420 o\n",
      "422 i\n",
      "427 o\n",
      "431 e\n",
      "433 e\n",
      "436 i\n",
      "438 e\n",
      "442 a\n",
      "445 a\n",
      "450 i\n",
      "453 a\n",
      "468 u\n",
      "469 i\n",
      "471 o\n",
      "474 a\n",
      "478 o\n",
      "481 u\n",
      "485 e\n",
      "487 a\n",
      "491 o\n",
      "494 i\n",
      "498 o\n",
      "505 o\n",
      "508 i\n",
      "513 e\n",
      "516 a\n",
      "518 e\n",
      "526 a\n",
      "529 a\n",
      "532 u\n",
      "535 e\n",
      "538 o\n",
      "542 o\n",
      "546 e\n",
      "548 A\n",
      "554 o\n",
      "557 a\n",
      "560 i\n",
      "565 a\n",
      "568 u\n",
      "569 a\n",
      "571 e\n",
      "573 a\n",
      "578 i\n",
      "584 e\n",
      "586 e\n",
      "587 a\n",
      "589 e\n",
      "592 i\n",
      "595 i\n",
      "603 a\n",
      "610 o\n",
      "628 o\n",
      "636 a\n",
      "640 e\n",
      "642 e\n",
      "643 a\n",
      "645 e\n",
      "648 i\n",
      "656 a\n",
      "660 i\n",
      "664 o\n",
      "666 u\n",
      "668 e\n",
      "672 e\n",
      "676 e\n",
      "677 a\n",
      "679 u\n",
      "681 e\n",
      "685 u\n",
      "689 a\n",
      "693 i\n",
      "698 o\n",
      "702 e\n",
      "704 e\n",
      "707 i\n",
      "708 o\n",
      "717 e\n",
      "720 e\n",
      "722 e\n",
      "725 i\n",
      "730 a\n",
      "733 a\n",
      "735 e\n",
      "738 o\n",
      "741 e\n",
      "744 i\n",
      "745 o\n",
      "750 e\n",
      "752 e\n",
      "754 e\n",
      "757 e\n",
      "760 o\n",
      "761 u\n",
      "764 i\n",
      "769 a\n",
      "773 U\n",
      "775 i\n",
      "777 o\n",
      "779 e\n",
      "782 u\n",
      "785 o\n",
      "794 o\n",
      "803 e\n",
      "805 e\n",
      "806 a\n",
      "808 e\n",
      "811 i\n",
      "821 a\n",
      "824 a\n",
      "827 a\n",
      "829 o\n",
      "833 e\n",
      "835 i\n",
      "837 i\n",
      "838 o\n",
      "843 a\n",
      "846 i\n",
      "850 o\n",
      "854 o\n",
      "858 e\n",
      "860 e\n",
      "865 a\n",
      "869 a\n",
      "874 o\n",
      "877 a\n",
      "879 i\n",
      "882 e\n",
      "885 i\n",
      "889 e\n",
      "890 a\n",
      "893 i\n",
      "894 e\n",
      "898 e\n",
      "901 i\n",
      "902 o\n",
      "911 o\n",
      "917 a\n",
      "921 i\n",
      "924 o\n",
      "927 i\n",
      "929 u\n",
      "930 e\n",
      "934 i\n",
      "939 e\n",
      "942 i\n",
      "943 o\n",
      "953 i\n",
      "971 o\n",
      "975 o\n",
      "978 i\n",
      "981 e\n",
      "988 a\n",
      "993 a\n",
      "996 o\n",
      "998 e\n",
      "1000 o\n",
      "1005 e\n",
      "1008 o\n",
      "1013 o\n",
      "1015 u\n",
      "1017 a\n",
      "1022 o\n",
      "1025 a\n",
      "1028 i\n",
      "1033 a\n",
      "1036 u\n",
      "1037 a\n",
      "1039 e\n"
     ]
    }
   ],
   "source": [
    "ls=[]\n",
    "n7=\"\"\"Python is a high-level, interpreted, general-purpose programming language. Its design philosophy emphasizes code readability with the use of significant indentation.[32]\n",
    "\n",
    "Python is dynamically-typed and garbage-collected. It supports multiple programming paradigms, including structured (particularly procedural), object-oriented and functional programming. It is often described as a \"batteries included\" language due to its comprehensive standard library.[33][34]\n",
    "\n",
    "Guido van Rossum began working on Python in the late 1980s as a successor to the ABC programming language and first released it in 1991 as Python 0.9.0.[35] Python 2.0 was released in 2000 and introduced new features such as list comprehensions, cycle-detecting garbage collection, reference counting, and Unicode support. Python 3.0, released in 2008, was a major revision that is not completely backward-compatible with earlier versions. Python 2 was discontinued with version 2.7.18 in 2020.[36]\n",
    "\n",
    "Python consistently ranks as one of the most popular programming languagesc\"\"\"\n",
    "n8=n7.lower()\n",
    "i=0\n",
    "while i<len(n8):\n",
    "    if n8[i]==\"a\" or n8[i]==\"e\" or n8[i]==\"i\" or n8[i]==\"o\" or n8[i]=='u':\n",
    "        ls.append(n8[i])\n",
    "        print(i,n7[i])\n",
    "    i+=1"
   ]
  },
  {
   "cell_type": "code",
   "execution_count": 4,
   "id": "a03413d8",
   "metadata": {},
   "outputs": [
    {
     "data": {
      "text/plain": [
       "'python is a high-level, interpreted, general-purpose programming language. its design philosophy emphasizes code readability with the use of significant indentation.[32]\\n\\npython is dynamically-typed and garbage-collected. it supports multiple programming paradigms, including structured (particularly procedural), object-oriented and functional programming. it is often described as a \"batteries included\" language due to its comprehensive standard library.[33][34]\\n\\nguido van rossum began working on python in the late 1980s as a successor to the abc programming language and first released it in 1991 as python 0.9.0.[35] python 2.0 was released in 2000 and introduced new features such as list comprehensions, cycle-detecting garbage collection, reference counting, and unicode support. python 3.0, released in 2008, was a major revision that is not completely backward-compatible with earlier versions. python 2 was discontinued with version 2.7.18 in 2020.[36]\\n\\npython consistently ranks as one of the most popular programming languagesc'"
      ]
     },
     "execution_count": 4,
     "metadata": {},
     "output_type": "execute_result"
    }
   ],
   "source": [
    "n8"
   ]
  },
  {
   "cell_type": "code",
   "execution_count": 5,
   "id": "03aa180a",
   "metadata": {},
   "outputs": [
    {
     "data": {
      "text/plain": [
       "['o',\n",
       " 'i',\n",
       " 'a',\n",
       " 'i',\n",
       " 'e',\n",
       " 'e',\n",
       " 'i',\n",
       " 'e',\n",
       " 'e',\n",
       " 'e',\n",
       " 'e',\n",
       " 'e',\n",
       " 'a',\n",
       " 'u',\n",
       " 'o',\n",
       " 'e',\n",
       " 'o',\n",
       " 'a',\n",
       " 'i',\n",
       " 'a',\n",
       " 'u',\n",
       " 'a',\n",
       " 'e',\n",
       " 'i',\n",
       " 'e',\n",
       " 'i',\n",
       " 'i',\n",
       " 'o',\n",
       " 'o',\n",
       " 'e',\n",
       " 'a',\n",
       " 'i',\n",
       " 'e',\n",
       " 'o',\n",
       " 'e',\n",
       " 'e',\n",
       " 'a',\n",
       " 'a',\n",
       " 'i',\n",
       " 'i',\n",
       " 'i',\n",
       " 'e',\n",
       " 'u',\n",
       " 'e',\n",
       " 'o',\n",
       " 'i',\n",
       " 'i',\n",
       " 'i',\n",
       " 'a',\n",
       " 'i',\n",
       " 'e',\n",
       " 'a',\n",
       " 'i',\n",
       " 'o',\n",
       " 'o',\n",
       " 'i',\n",
       " 'a',\n",
       " 'i',\n",
       " 'a',\n",
       " 'e',\n",
       " 'a',\n",
       " 'a',\n",
       " 'a',\n",
       " 'e',\n",
       " 'o',\n",
       " 'e',\n",
       " 'e',\n",
       " 'i',\n",
       " 'u',\n",
       " 'o',\n",
       " 'u',\n",
       " 'i',\n",
       " 'e',\n",
       " 'o',\n",
       " 'a',\n",
       " 'i',\n",
       " 'a',\n",
       " 'a',\n",
       " 'i',\n",
       " 'i',\n",
       " 'u',\n",
       " 'i',\n",
       " 'u',\n",
       " 'u',\n",
       " 'e',\n",
       " 'a',\n",
       " 'i',\n",
       " 'u',\n",
       " 'a',\n",
       " 'o',\n",
       " 'e',\n",
       " 'u',\n",
       " 'a',\n",
       " 'o',\n",
       " 'e',\n",
       " 'o',\n",
       " 'i',\n",
       " 'e',\n",
       " 'e',\n",
       " 'a',\n",
       " 'u',\n",
       " 'i',\n",
       " 'o',\n",
       " 'a',\n",
       " 'o',\n",
       " 'a',\n",
       " 'i',\n",
       " 'i',\n",
       " 'i',\n",
       " 'o',\n",
       " 'e',\n",
       " 'e',\n",
       " 'i',\n",
       " 'e',\n",
       " 'a',\n",
       " 'a',\n",
       " 'a',\n",
       " 'e',\n",
       " 'i',\n",
       " 'e',\n",
       " 'i',\n",
       " 'u',\n",
       " 'e',\n",
       " 'a',\n",
       " 'u',\n",
       " 'a',\n",
       " 'e',\n",
       " 'u',\n",
       " 'e',\n",
       " 'o',\n",
       " 'i',\n",
       " 'o',\n",
       " 'e',\n",
       " 'e',\n",
       " 'i',\n",
       " 'e',\n",
       " 'a',\n",
       " 'a',\n",
       " 'i',\n",
       " 'a',\n",
       " 'u',\n",
       " 'i',\n",
       " 'o',\n",
       " 'a',\n",
       " 'o',\n",
       " 'u',\n",
       " 'e',\n",
       " 'a',\n",
       " 'o',\n",
       " 'i',\n",
       " 'o',\n",
       " 'o',\n",
       " 'i',\n",
       " 'e',\n",
       " 'a',\n",
       " 'e',\n",
       " 'a',\n",
       " 'a',\n",
       " 'u',\n",
       " 'e',\n",
       " 'o',\n",
       " 'o',\n",
       " 'e',\n",
       " 'a',\n",
       " 'o',\n",
       " 'a',\n",
       " 'i',\n",
       " 'a',\n",
       " 'u',\n",
       " 'a',\n",
       " 'e',\n",
       " 'a',\n",
       " 'i',\n",
       " 'e',\n",
       " 'e',\n",
       " 'a',\n",
       " 'e',\n",
       " 'i',\n",
       " 'i',\n",
       " 'a',\n",
       " 'o',\n",
       " 'o',\n",
       " 'a',\n",
       " 'e',\n",
       " 'e',\n",
       " 'a',\n",
       " 'e',\n",
       " 'i',\n",
       " 'a',\n",
       " 'i',\n",
       " 'o',\n",
       " 'u',\n",
       " 'e',\n",
       " 'e',\n",
       " 'e',\n",
       " 'a',\n",
       " 'u',\n",
       " 'e',\n",
       " 'u',\n",
       " 'a',\n",
       " 'i',\n",
       " 'o',\n",
       " 'e',\n",
       " 'e',\n",
       " 'i',\n",
       " 'o',\n",
       " 'e',\n",
       " 'e',\n",
       " 'e',\n",
       " 'i',\n",
       " 'a',\n",
       " 'a',\n",
       " 'e',\n",
       " 'o',\n",
       " 'e',\n",
       " 'i',\n",
       " 'o',\n",
       " 'e',\n",
       " 'e',\n",
       " 'e',\n",
       " 'e',\n",
       " 'o',\n",
       " 'u',\n",
       " 'i',\n",
       " 'a',\n",
       " 'u',\n",
       " 'i',\n",
       " 'o',\n",
       " 'e',\n",
       " 'u',\n",
       " 'o',\n",
       " 'o',\n",
       " 'e',\n",
       " 'e',\n",
       " 'a',\n",
       " 'e',\n",
       " 'i',\n",
       " 'a',\n",
       " 'a',\n",
       " 'a',\n",
       " 'o',\n",
       " 'e',\n",
       " 'i',\n",
       " 'i',\n",
       " 'o',\n",
       " 'a',\n",
       " 'i',\n",
       " 'o',\n",
       " 'o',\n",
       " 'e',\n",
       " 'e',\n",
       " 'a',\n",
       " 'a',\n",
       " 'o',\n",
       " 'a',\n",
       " 'i',\n",
       " 'e',\n",
       " 'i',\n",
       " 'e',\n",
       " 'a',\n",
       " 'i',\n",
       " 'e',\n",
       " 'e',\n",
       " 'i',\n",
       " 'o',\n",
       " 'o',\n",
       " 'a',\n",
       " 'i',\n",
       " 'o',\n",
       " 'i',\n",
       " 'u',\n",
       " 'e',\n",
       " 'i',\n",
       " 'e',\n",
       " 'i',\n",
       " 'o',\n",
       " 'i',\n",
       " 'o',\n",
       " 'o',\n",
       " 'i',\n",
       " 'e',\n",
       " 'a',\n",
       " 'a',\n",
       " 'o',\n",
       " 'e',\n",
       " 'o',\n",
       " 'e',\n",
       " 'o',\n",
       " 'o',\n",
       " 'u',\n",
       " 'a',\n",
       " 'o',\n",
       " 'a',\n",
       " 'i',\n",
       " 'a',\n",
       " 'u',\n",
       " 'a',\n",
       " 'e']"
      ]
     },
     "execution_count": 5,
     "metadata": {},
     "output_type": "execute_result"
    }
   ],
   "source": [
    "ls\n"
   ]
  },
  {
   "cell_type": "code",
   "execution_count": null,
   "id": "93be7c5b",
   "metadata": {},
   "outputs": [],
   "source": [
    "##q5\n",
    "##Try to generate all the even number between 1- 1000\n",
    "n9=int(input(\"lower num=\"))\n",
    "n10=int(input(\"upper num=\"))\n",
    "while n9<=n10:\n",
    "    if n9%2==0:\n",
    "        print(n9)\n",
    "    n9+=1"
   ]
  },
  {
   "cell_type": "code",
   "execution_count": null,
   "id": "e38642bd",
   "metadata": {},
   "outputs": [],
   "source": [
    "##q6\n",
    "##Define a function for all the above problem statememnt\n",
    "##defined q1\n",
    "def test(n,i):\n",
    "\n",
    "    while i<n:\n",
    "        print(\"* \"*(i+1))\n",
    "        i+=1\n",
    "    "
   ]
  },
  {
   "cell_type": "code",
   "execution_count": null,
   "id": "d3e4c46a",
   "metadata": {},
   "outputs": [],
   "source": [
    "type(test(9,0))"
   ]
  },
  {
   "cell_type": "code",
   "execution_count": null,
   "id": "768b9cd1",
   "metadata": {},
   "outputs": [],
   "source": [
    "##defined q2\n",
    "def test2():\n",
    "    ###abcd headache question"
   ]
  },
  {
   "cell_type": "code",
   "execution_count": null,
   "id": "0137dfa8",
   "metadata": {},
   "outputs": [],
   "source": []
  },
  {
   "cell_type": "code",
   "execution_count": null,
   "id": "4ed8417a",
   "metadata": {},
   "outputs": [],
   "source": [
    "##defined q3\n",
    "def test3(a,b):\n",
    "    ls=[]\n",
    "    while a<b:\n",
    "        if a%3==0:\n",
    "            ls.append(a)\n",
    "        a+=1\n",
    "    return ls"
   ]
  },
  {
   "cell_type": "code",
   "execution_count": null,
   "id": "c1377e0e",
   "metadata": {},
   "outputs": [],
   "source": [
    "test3(0,10),type(test3(0,10))"
   ]
  },
  {
   "cell_type": "code",
   "execution_count": 6,
   "id": "a6ab85b3",
   "metadata": {},
   "outputs": [],
   "source": [
    "##defined q4\n",
    "def test4(n8,i):\n",
    "    ls1=[]\n",
    "    while i<len(n8):\n",
    "        if n8[i]==\"a\" or n8[i]==\"e\" or n8[i]==\"i\" or n8[i]==\"o\" or n8[i]==\"u\":\n",
    "            ls1.append(n8[i])\n",
    "        i+=1\n",
    "    return ls1"
   ]
  },
  {
   "cell_type": "code",
   "execution_count": 7,
   "id": "eb9c9bbb",
   "metadata": {},
   "outputs": [
    {
     "data": {
      "text/plain": [
       "['o',\n",
       " 'i',\n",
       " 'a',\n",
       " 'i',\n",
       " 'e',\n",
       " 'e',\n",
       " 'i',\n",
       " 'e',\n",
       " 'e',\n",
       " 'e',\n",
       " 'e',\n",
       " 'e',\n",
       " 'a',\n",
       " 'u',\n",
       " 'o',\n",
       " 'e',\n",
       " 'o',\n",
       " 'a',\n",
       " 'i',\n",
       " 'a',\n",
       " 'u',\n",
       " 'a',\n",
       " 'e',\n",
       " 'i',\n",
       " 'e',\n",
       " 'i',\n",
       " 'i',\n",
       " 'o',\n",
       " 'o',\n",
       " 'e',\n",
       " 'a',\n",
       " 'i',\n",
       " 'e',\n",
       " 'o',\n",
       " 'e',\n",
       " 'e',\n",
       " 'a',\n",
       " 'a',\n",
       " 'i',\n",
       " 'i',\n",
       " 'i',\n",
       " 'e',\n",
       " 'u',\n",
       " 'e',\n",
       " 'o',\n",
       " 'i',\n",
       " 'i',\n",
       " 'i',\n",
       " 'a',\n",
       " 'i',\n",
       " 'e',\n",
       " 'a',\n",
       " 'i',\n",
       " 'o',\n",
       " 'o',\n",
       " 'i',\n",
       " 'a',\n",
       " 'i',\n",
       " 'a',\n",
       " 'e',\n",
       " 'a',\n",
       " 'a',\n",
       " 'a',\n",
       " 'e',\n",
       " 'o',\n",
       " 'e',\n",
       " 'e',\n",
       " 'i',\n",
       " 'u',\n",
       " 'o',\n",
       " 'u',\n",
       " 'i',\n",
       " 'e',\n",
       " 'o',\n",
       " 'a',\n",
       " 'i',\n",
       " 'a',\n",
       " 'a',\n",
       " 'i',\n",
       " 'i',\n",
       " 'u',\n",
       " 'i',\n",
       " 'u',\n",
       " 'u',\n",
       " 'e',\n",
       " 'a',\n",
       " 'i',\n",
       " 'u',\n",
       " 'a',\n",
       " 'o',\n",
       " 'e',\n",
       " 'u',\n",
       " 'a',\n",
       " 'o',\n",
       " 'e',\n",
       " 'o',\n",
       " 'i',\n",
       " 'e',\n",
       " 'e',\n",
       " 'a',\n",
       " 'u',\n",
       " 'i',\n",
       " 'o',\n",
       " 'a',\n",
       " 'o',\n",
       " 'a',\n",
       " 'i',\n",
       " 'i',\n",
       " 'i',\n",
       " 'o',\n",
       " 'e',\n",
       " 'e',\n",
       " 'i',\n",
       " 'e',\n",
       " 'a',\n",
       " 'a',\n",
       " 'a',\n",
       " 'e',\n",
       " 'i',\n",
       " 'e',\n",
       " 'i',\n",
       " 'u',\n",
       " 'e',\n",
       " 'a',\n",
       " 'u',\n",
       " 'a',\n",
       " 'e',\n",
       " 'u',\n",
       " 'e',\n",
       " 'o',\n",
       " 'i',\n",
       " 'o',\n",
       " 'e',\n",
       " 'e',\n",
       " 'i',\n",
       " 'e',\n",
       " 'a',\n",
       " 'a',\n",
       " 'i',\n",
       " 'a',\n",
       " 'u',\n",
       " 'i',\n",
       " 'o',\n",
       " 'a',\n",
       " 'o',\n",
       " 'u',\n",
       " 'e',\n",
       " 'a',\n",
       " 'o',\n",
       " 'i',\n",
       " 'o',\n",
       " 'o',\n",
       " 'i',\n",
       " 'e',\n",
       " 'a',\n",
       " 'e',\n",
       " 'a',\n",
       " 'a',\n",
       " 'u',\n",
       " 'e',\n",
       " 'o',\n",
       " 'o',\n",
       " 'e',\n",
       " 'a',\n",
       " 'o',\n",
       " 'a',\n",
       " 'i',\n",
       " 'a',\n",
       " 'u',\n",
       " 'a',\n",
       " 'e',\n",
       " 'a',\n",
       " 'i',\n",
       " 'e',\n",
       " 'e',\n",
       " 'a',\n",
       " 'e',\n",
       " 'i',\n",
       " 'i',\n",
       " 'a',\n",
       " 'o',\n",
       " 'o',\n",
       " 'a',\n",
       " 'e',\n",
       " 'e',\n",
       " 'a',\n",
       " 'e',\n",
       " 'i',\n",
       " 'a',\n",
       " 'i',\n",
       " 'o',\n",
       " 'u',\n",
       " 'e',\n",
       " 'e',\n",
       " 'e',\n",
       " 'a',\n",
       " 'u',\n",
       " 'e',\n",
       " 'u',\n",
       " 'a',\n",
       " 'i',\n",
       " 'o',\n",
       " 'e',\n",
       " 'e',\n",
       " 'i',\n",
       " 'o',\n",
       " 'e',\n",
       " 'e',\n",
       " 'e',\n",
       " 'i',\n",
       " 'a',\n",
       " 'a',\n",
       " 'e',\n",
       " 'o',\n",
       " 'e',\n",
       " 'i',\n",
       " 'o',\n",
       " 'e',\n",
       " 'e',\n",
       " 'e',\n",
       " 'e',\n",
       " 'o',\n",
       " 'u',\n",
       " 'i',\n",
       " 'a',\n",
       " 'u',\n",
       " 'i',\n",
       " 'o',\n",
       " 'e',\n",
       " 'u',\n",
       " 'o',\n",
       " 'o',\n",
       " 'e',\n",
       " 'e',\n",
       " 'a',\n",
       " 'e',\n",
       " 'i',\n",
       " 'a',\n",
       " 'a',\n",
       " 'a',\n",
       " 'o',\n",
       " 'e',\n",
       " 'i',\n",
       " 'i',\n",
       " 'o',\n",
       " 'a',\n",
       " 'i',\n",
       " 'o',\n",
       " 'o',\n",
       " 'e',\n",
       " 'e',\n",
       " 'a',\n",
       " 'a',\n",
       " 'o',\n",
       " 'a',\n",
       " 'i',\n",
       " 'e',\n",
       " 'i',\n",
       " 'e',\n",
       " 'a',\n",
       " 'i',\n",
       " 'e',\n",
       " 'e',\n",
       " 'i',\n",
       " 'o',\n",
       " 'o',\n",
       " 'a',\n",
       " 'i',\n",
       " 'o',\n",
       " 'i',\n",
       " 'u',\n",
       " 'e',\n",
       " 'i',\n",
       " 'e',\n",
       " 'i',\n",
       " 'o',\n",
       " 'i',\n",
       " 'o',\n",
       " 'o',\n",
       " 'i',\n",
       " 'e',\n",
       " 'a',\n",
       " 'a',\n",
       " 'o',\n",
       " 'e',\n",
       " 'o',\n",
       " 'e',\n",
       " 'o',\n",
       " 'o',\n",
       " 'u',\n",
       " 'a',\n",
       " 'o',\n",
       " 'a',\n",
       " 'i',\n",
       " 'a',\n",
       " 'u',\n",
       " 'a',\n",
       " 'e']"
      ]
     },
     "execution_count": 7,
     "metadata": {},
     "output_type": "execute_result"
    }
   ],
   "source": [
    "test4(n8,0)"
   ]
  },
  {
   "cell_type": "code",
   "execution_count": null,
   "id": "81746aa3",
   "metadata": {},
   "outputs": [],
   "source": [
    "##defined Q5\n",
    "def test5(a,b):\n",
    "    ls2=[]\n",
    "    while a<=b:\n",
    "        if a%2==0:\n",
    "            ls2.append(a)\n",
    "        a+=1\n",
    "    return ls2\n",
    "        \n",
    "    "
   ]
  },
  {
   "cell_type": "code",
   "execution_count": null,
   "id": "142a98b7",
   "metadata": {},
   "outputs": [],
   "source": [
    "test5(0,10)"
   ]
  },
  {
   "cell_type": "code",
   "execution_count": null,
   "id": "9d9ded81",
   "metadata": {},
   "outputs": [],
   "source": [
    "##q7\n",
    "##write a code to get a time of your system "
   ]
  },
  {
   "cell_type": "code",
   "execution_count": null,
   "id": "0e93830b",
   "metadata": {},
   "outputs": [],
   "source": [
    "##Q14\n",
    "##you have to write a fun which will take string and return a len of \n",
    "##it without using a inbuilt fun len\n",
    "l=\"liki\"\n",
    "len(l)"
   ]
  },
  {
   "cell_type": "code",
   "execution_count": 5,
   "id": "02c8c6f6",
   "metadata": {},
   "outputs": [],
   "source": [
    "def test6(l):\n",
    "    c=0\n",
    "    for i in l:\n",
    "        c=c+1\n",
    "    return c\n",
    "        \n",
    "        \n",
    "        "
   ]
  },
  {
   "cell_type": "code",
   "execution_count": 6,
   "id": "7155ba4f",
   "metadata": {},
   "outputs": [
    {
     "data": {
      "text/plain": [
       "8"
      ]
     },
     "execution_count": 6,
     "metadata": {},
     "output_type": "execute_result"
    }
   ],
   "source": [
    "test6(\"likifvkm\")"
   ]
  },
  {
   "cell_type": "code",
   "execution_count": 7,
   "id": "40d47479",
   "metadata": {},
   "outputs": [],
   "source": [
    "##q15 : write a fun which will be able \n",
    "##to print an index of all \n",
    "##premitive element which you will pass\n",
    "def test7(t):\n",
    "    i=-1\n",
    "    while i>=-len(t):\n",
    "        print(t[i],i)\n",
    "        i-=1\n",
    "    \n",
    "    "
   ]
  },
  {
   "cell_type": "code",
   "execution_count": 8,
   "id": "9ff0fa32",
   "metadata": {},
   "outputs": [
    {
     "name": "stdout",
     "output_type": "stream",
     "text": [
      "i -1\n",
      "k -2\n",
      "i -3\n",
      "l -4\n"
     ]
    }
   ],
   "source": [
    "test7((\"liki\"))"
   ]
  },
  {
   "cell_type": "code",
   "execution_count": null,
   "id": "1f32addc",
   "metadata": {},
   "outputs": [],
   "source": []
  },
  {
   "cell_type": "code",
   "execution_count": 9,
   "id": "151669a3",
   "metadata": {},
   "outputs": [
    {
     "name": "stdout",
     "output_type": "stream",
     "text": [
      "5 -1\n",
      "4 -2\n",
      "3 -3\n",
      "2 -4\n",
      "1 -5\n"
     ]
    }
   ],
   "source": [
    "test7([1,2,3,4,5])"
   ]
  },
  {
   "cell_type": "code",
   "execution_count": 10,
   "id": "08d30a84",
   "metadata": {},
   "outputs": [],
   "source": [
    "d1={\"k1\":\"liki\",\"k2\":\"2322\",\"k3\":\"2323\",\"k4\":{\"l1\":\"chaku\",\"l2\":\"choori\"}}"
   ]
  },
  {
   "cell_type": "code",
   "execution_count": 11,
   "id": "30c188c3",
   "metadata": {},
   "outputs": [],
   "source": [
    "##q16 : Write a fun which will take input as a dict and \n",
    "##give me out as a list \n",
    "##of all the values \n",
    "##even in case of 2 level nesting it should work. \n",
    "def test8(d1):\n",
    "    ls=[]\n",
    "    for k,v in d1.items():\n",
    "        ls.append(v)\n",
    "        if type(k)==dict:\n",
    "            for j in k.values:\n",
    "                ls.append(j)\n",
    "            \n",
    "    return ls\n",
    "    "
   ]
  },
  {
   "cell_type": "code",
   "execution_count": 12,
   "id": "7534ad7b",
   "metadata": {},
   "outputs": [
    {
     "data": {
      "text/plain": [
       "['liki', '2322', '2323', {'l1': 'chaku', 'l2': 'choori'}]"
      ]
     },
     "execution_count": 12,
     "metadata": {},
     "output_type": "execute_result"
    }
   ],
   "source": [
    "test8(d1)"
   ]
  },
  {
   "cell_type": "code",
   "execution_count": 17,
   "id": "8a3090df",
   "metadata": {},
   "outputs": [],
   "source": [
    "d={\"k1\":\"liki\",\"k2\":\"2322\",\"k3\":\"2323\",\"k4\":{\"l1\":\"chaku\",\"l2\":\"choori\"}}"
   ]
  },
  {
   "cell_type": "code",
   "execution_count": 18,
   "id": "a9044cc3",
   "metadata": {},
   "outputs": [],
   "source": [
    "##Q16 corrected\n",
    "def test9(d):\n",
    "    ls=[]\n",
    "    for i in d.values():\n",
    "        if type(i)!=dict:\n",
    "            ls.append(i)\n",
    "        if type(i)==dict:\n",
    "            for j in i.values():\n",
    "                ls.append(j)\n",
    "    return ls\n",
    "        "
   ]
  },
  {
   "cell_type": "code",
   "execution_count": 19,
   "id": "b1cdfe48",
   "metadata": {},
   "outputs": [
    {
     "data": {
      "text/plain": [
       "['liki', '2322', '2323', 'chaku', 'choori']"
      ]
     },
     "execution_count": 19,
     "metadata": {},
     "output_type": "execute_result"
    }
   ],
   "source": [
    "test9(d)"
   ]
  },
  {
   "cell_type": "code",
   "execution_count": 20,
   "id": "3192c840",
   "metadata": {},
   "outputs": [
    {
     "data": {
      "text/plain": [
       "['liki', '2322', '2323', 'chaku', 'choori']"
      ]
     },
     "execution_count": 20,
     "metadata": {},
     "output_type": "execute_result"
    }
   ],
   "source": [
    "test9(d)"
   ]
  },
  {
   "cell_type": "code",
   "execution_count": 21,
   "id": "b865647e",
   "metadata": {},
   "outputs": [],
   "source": [
    "##q17 : write a function whihc will take multiple list as a input and give me concatnation of all the element as \n",
    "##and output\n"
   ]
  },
  {
   "cell_type": "code",
   "execution_count": null,
   "id": "f71d9f61",
   "metadata": {},
   "outputs": [],
   "source": []
  },
  {
   "cell_type": "code",
   "execution_count": 37,
   "id": "f98f48ed",
   "metadata": {},
   "outputs": [],
   "source": [
    "def test10(*a):\n",
    "    ls=[]\n",
    "    for i in a:\n",
    "        if type(i)==list:\n",
    "            ls.append((i))\n",
    "    return ls\n",
    "        \n",
    "        \n",
    "    "
   ]
  },
  {
   "cell_type": "code",
   "execution_count": 38,
   "id": "91578d83",
   "metadata": {},
   "outputs": [
    {
     "data": {
      "text/plain": [
       "[[1, 2, 3, 34], ['liki', 12, 33, 5]]"
      ]
     },
     "execution_count": 38,
     "metadata": {},
     "output_type": "execute_result"
    }
   ],
   "source": [
    "test10([1,2,3,34],[\"liki\",12,33,5])"
   ]
  },
  {
   "cell_type": "code",
   "execution_count": 21,
   "id": "1c8879dd",
   "metadata": {},
   "outputs": [
    {
     "data": {
      "text/plain": [
       "[[1, 2, 3, 4, 4], ['njd', 36, 3, 3, 4, 45]]"
      ]
     },
     "execution_count": 21,
     "metadata": {},
     "output_type": "execute_result"
    }
   ],
   "source": [
    "test10([1,2,3,4,4],[\"njd\",36,3,3,4,45])"
   ]
  },
  {
   "cell_type": "code",
   "execution_count": 22,
   "id": "a32fa707",
   "metadata": {},
   "outputs": [
    {
     "data": {
      "text/plain": [
       "[[1, 2, 3, 4], [1233, 557]]"
      ]
     },
     "execution_count": 22,
     "metadata": {},
     "output_type": "execute_result"
    }
   ],
   "source": [
    "test10([1,2,3,4],[1233,557])"
   ]
  },
  {
   "cell_type": "code",
   "execution_count": 26,
   "id": "f5da5711",
   "metadata": {},
   "outputs": [],
   "source": [
    "##q18 : Write a function which will whould return list of all \n",
    "##the file name from a directory ."
   ]
  },
  {
   "cell_type": "code",
   "execution_count": null,
   "id": "fa900ba7",
   "metadata": {},
   "outputs": [],
   "source": [
    "##q19 : write a function whihc will be able to read a image file and show it to you .\n",
    "    \n",
    "##q20 : write a function by which you will be able to append two PDF files . \n",
    "    \n",
    "##q21 : write a function which can help you to filter only word file from a directory . \n",
    "    \n",
    "##q22 : write a function which can read video file and play for you . \n",
    "    \n",
    "##q23 : write a function which will be able to shutdonw your system . \n",
    "\n",
    "##q24 : Write a function which will whould return list of all the file name from a directory . \n",
    "\n",
    "##q25 : write a function whihc will be able to access your mail ."
   ]
  },
  {
   "cell_type": "code",
   "execution_count": null,
   "id": "8d57ece6",
   "metadata": {},
   "outputs": [],
   "source": []
  },
  {
   "cell_type": "code",
   "execution_count": null,
   "id": "62bb4dc3",
   "metadata": {},
   "outputs": [],
   "source": []
  }
 ],
 "metadata": {
  "kernelspec": {
   "display_name": "Python 3 (ipykernel)",
   "language": "python",
   "name": "python3"
  },
  "language_info": {
   "codemirror_mode": {
    "name": "ipython",
    "version": 3
   },
   "file_extension": ".py",
   "mimetype": "text/x-python",
   "name": "python",
   "nbconvert_exporter": "python",
   "pygments_lexer": "ipython3",
   "version": "3.9.12"
  }
 },
 "nbformat": 4,
 "nbformat_minor": 5
}
